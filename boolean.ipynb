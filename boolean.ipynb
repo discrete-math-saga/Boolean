{
 "cells": [
  {
   "attachments": {},
   "cell_type": "markdown",
   "metadata": {},
   "source": [
    "# 真理値表: Truth tables"
   ]
  },
  {
   "attachments": {},
   "cell_type": "markdown",
   "metadata": {},
   "source": [
    "## 基本的な演算\n",
    "\n",
    "\\begin{aligned}\n",
    "p&\\wedge q\\\\\n",
    "p&\\vee q\\\\\n",
    "p&\\oplus q\n",
    "\\end{aligned}"
   ]
  },
  {
   "cell_type": "code",
   "execution_count": null,
   "metadata": {},
   "outputs": [],
   "source": [
    "for p in [True, False]:\n",
    "    for q in [True, False]:\n",
    "        x = p and q\n",
    "        y = p or q\n",
    "        z = p ^ q\n",
    "        m = f'{p}:{q}:{x}:{y}:{z}'\n",
    "        print(m)"
   ]
  },
  {
   "attachments": {},
   "cell_type": "markdown",
   "metadata": {},
   "source": [
    "## imply\n",
    "\n",
    "$$(p\\Rightarrow q) \\Leftrightarrow (\\neg p\\vee q)$$"
   ]
  },
  {
   "cell_type": "code",
   "execution_count": null,
   "metadata": {},
   "outputs": [],
   "source": [
    "for p in [True, False]:\n",
    "    for q in [True, False]:\n",
    "        x = (not p) or q\n",
    "        m = f'{p}:{q}:{x}'\n",
    "        print(m)"
   ]
  },
  {
   "attachments": {},
   "cell_type": "markdown",
   "metadata": {},
   "source": [
    "## Exercise\n",
    "\n",
    "\\begin{aligned}\n",
    "&\\neg p \\vee \\neg q\\\\\n",
    "&\\neg (\\neg p\\vee q)\\\\\n",
    "&\\neg (p\\wedge \\neg q)\n",
    "\\end{aligned}"
   ]
  },
  {
   "cell_type": "code",
   "execution_count": null,
   "metadata": {
    "tags": []
   },
   "outputs": [],
   "source": [
    "for p in [True, False]:\n",
    "    for q in [True, False]:\n",
    "        x = (not p) or (not q)\n",
    "        y = not ( (not p) or q)\n",
    "        z = not ( p and (not q))\n",
    "        m = f'{p}:{q}:{x}:{y}:{z}'\n",
    "        print(m)"
   ]
  },
  {
   "attachments": {},
   "cell_type": "markdown",
   "metadata": {},
   "source": [
    "## 述語\n",
    "- $P(x): x \\bmod 2 = 0$\n",
    "- $Q(x): x \\bmod 3 = 0$"
   ]
  },
  {
   "cell_type": "code",
   "execution_count": null,
   "metadata": {},
   "outputs": [],
   "source": [
    "def P(x:int) -> bool:\n",
    "    return (x % 2 == 0)\n",
    "def Q(x:int) -> bool:\n",
    "    return (x % 3 == 0)\n",
    "\n",
    "for x in range(3, 7):\n",
    "    a = P(x)\n",
    "    b = Q(x)\n",
    "    y = P(x) and Q(x)\n",
    "    z = P(x) or Q(x)\n",
    "    m = f'{x}:{a}:{b}:{y}:{z}'\n",
    "    print(m)"
   ]
  }
 ],
 "metadata": {
  "interpreter": {
   "hash": "7d330ac3c0b25dc381f64ca0c188e362671856c25b4e80802dae9163abcbe1bb"
  },
  "kernelspec": {
   "display_name": "Python 3.9.4 64-bit",
   "name": "python3"
  },
  "language_info": {
   "codemirror_mode": {
    "name": "ipython",
    "version": 3
   },
   "file_extension": ".py",
   "mimetype": "text/x-python",
   "name": "python",
   "nbconvert_exporter": "python",
   "pygments_lexer": "ipython3",
   "version": "3.10.8"
  },
  "orig_nbformat": 2
 },
 "nbformat": 4,
 "nbformat_minor": 2
}
