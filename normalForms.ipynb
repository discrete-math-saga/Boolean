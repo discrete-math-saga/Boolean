{
 "cells": [
  {
   "attachments": {},
   "cell_type": "markdown",
   "metadata": {},
   "source": [
    "# 標準形: Normal form of logical operations\n",
    "## NANDだけで、not、andとorを表現できること"
   ]
  },
  {
   "attachments": {},
   "cell_type": "markdown",
   "metadata": {},
   "source": [
    "$$p\\uparrow q=\\neg(p\\wedge q)$$"
   ]
  },
  {
   "cell_type": "code",
   "execution_count": null,
   "metadata": {},
   "outputs": [],
   "source": [
    "def nand(p:bool, q:bool) -> bool:\n",
    "    return not (p and q)"
   ]
  },
  {
   "attachments": {},
   "cell_type": "markdown",
   "metadata": {},
   "source": [
    "\\begin{aligned}\n",
    "p \\wedge q&=(p\\uparrow q)\\uparrow(p\\uparrow q)\\\\\n",
    "p \\vee q&=(p\\uparrow p)\\uparrow(q\\uparrow q)\\\\\n",
    "\\end{aligned}"
   ]
  },
  {
   "cell_type": "code",
   "execution_count": null,
   "metadata": {},
   "outputs": [],
   "source": [
    "for p in [True,False]:\n",
    "    for q in [True, False]:\n",
    "        #and\n",
    "        x = nand( nand(p,q), nand(p,q))\n",
    "        #or\n",
    "        y = nand( nand(p,p), nand(q,q))\n",
    "        print( f'{p}:{q}:{x}:{y}')"
   ]
  },
  {
   "attachments": {},
   "cell_type": "markdown",
   "metadata": {},
   "source": [
    "$$\n",
    "\\neg p = p\\uparrow p\n",
    "$$"
   ]
  },
  {
   "cell_type": "code",
   "execution_count": null,
   "metadata": {},
   "outputs": [],
   "source": [
    "for p in [True, False]:\n",
    "    x = nand( nand(p,p), nand(p,p))\n",
    "    print(f'{p}:{x}')"
   ]
  },
  {
   "attachments": {},
   "cell_type": "markdown",
   "metadata": {},
   "source": [
    "## NORだけで、not、andとorを表現できること"
   ]
  },
  {
   "attachments": {},
   "cell_type": "markdown",
   "metadata": {},
   "source": [
    "$$p\\downarrow q=\\neg(p\\vee q)$$"
   ]
  },
  {
   "cell_type": "code",
   "execution_count": null,
   "metadata": {},
   "outputs": [],
   "source": [
    "def nor(p:bool, q:bool) -> bool:\n",
    "    return not (p or q)"
   ]
  },
  {
   "attachments": {},
   "cell_type": "markdown",
   "metadata": {},
   "source": [
    "\\begin{aligned}\n",
    "p\\wedge q&=(p\\downarrow p)\\downarrow (q\\downarrow q)\\\\\n",
    "p\\vee q&=(p\\downarrow q)\\downarrow (p\\downarrow q)\\\\\n",
    "\\end{aligned}"
   ]
  },
  {
   "cell_type": "code",
   "execution_count": null,
   "metadata": {},
   "outputs": [],
   "source": [
    "for p in [True, False]:\n",
    "    for q in [True, False]:\n",
    "        #and\n",
    "        x = nor( nor(p,p), nor(q,q))\n",
    "        #or\n",
    "        y = nor( nor(p,q), nor(p,q))\n",
    "        print(f'{p}:{q}:{x}:{y}')"
   ]
  },
  {
   "attachments": {},
   "cell_type": "markdown",
   "metadata": {},
   "source": [
    "$$\\neg p = p \\downarrow p$$"
   ]
  },
  {
   "cell_type": "code",
   "execution_count": null,
   "metadata": {},
   "outputs": [],
   "source": [
    "for p in [True, False]:\n",
    "    x = nor( nor(p,p), nor(p,p))\n",
    "    print(f'{p}:{x}')"
   ]
  }
 ],
 "metadata": {
  "interpreter": {
   "hash": "6b0d672cbe8d0a33fe0f78ef72c898ec07614ef49828a69cf214e8e34f4a3f57"
  },
  "kernelspec": {
   "display_name": "Python 3.9.7 64-bit ('myenv': conda)",
   "name": "python3"
  },
  "language_info": {
   "codemirror_mode": {
    "name": "ipython",
    "version": 3
   },
   "file_extension": ".py",
   "mimetype": "text/x-python",
   "name": "python",
   "nbconvert_exporter": "python",
   "pygments_lexer": "ipython3",
   "version": "3.9.7"
  },
  "orig_nbformat": 4
 },
 "nbformat": 4,
 "nbformat_minor": 2
}
